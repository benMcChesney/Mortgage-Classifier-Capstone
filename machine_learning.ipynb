{
 "cells": [
  {
   "cell_type": "code",
   "execution_count": 3,
   "metadata": {},
   "outputs": [],
   "source": [
    "import pandas as pd\n",
    "import numpy as np\n",
    "\n",
    "from time import time\n",
    "from scipy.stats import randint as sp_randint\n",
    "\n",
    "from sklearn.model_selection import GridSearchCV\n",
    "from sklearn.model_selection import RandomizedSearchCV\n",
    "#from dask_searchcv import GridSearchCV\n",
    "#from dask_searchcv import RandomizedSearchCV\n",
    "from sklearn.datasets import load_digits\n",
    "from sklearn.ensemble import RandomForestClassifier"
   ]
  },
  {
   "cell_type": "code",
   "execution_count": 4,
   "metadata": {},
   "outputs": [
    {
     "data": {
      "text/html": [
       "<div>\n",
       "<style scoped>\n",
       "    .dataframe tbody tr th:only-of-type {\n",
       "        vertical-align: middle;\n",
       "    }\n",
       "\n",
       "    .dataframe tbody tr th {\n",
       "        vertical-align: top;\n",
       "    }\n",
       "\n",
       "    .dataframe thead th {\n",
       "        text-align: right;\n",
       "    }\n",
       "</style>\n",
       "<table border=\"1\" class=\"dataframe\">\n",
       "  <thead>\n",
       "    <tr style=\"text-align: right;\">\n",
       "      <th></th>\n",
       "      <th>accepted</th>\n",
       "      <th>lender</th>\n",
       "      <th>applicant_income</th>\n",
       "      <th>loan_amount</th>\n",
       "      <th>minority_population_pct</th>\n",
       "      <th>ffiecmedian_family_income</th>\n",
       "      <th>population</th>\n",
       "      <th>number_of_owner-occupied_units</th>\n",
       "      <th>number_of_1_to_4_family_units</th>\n",
       "      <th>loan_purpose</th>\n",
       "      <th>co_applicant</th>\n",
       "      <th>loan_type</th>\n",
       "    </tr>\n",
       "  </thead>\n",
       "  <tbody>\n",
       "    <tr>\n",
       "      <th>0</th>\n",
       "      <td>1</td>\n",
       "      <td>4536</td>\n",
       "      <td>0.002269</td>\n",
       "      <td>0.000684</td>\n",
       "      <td>44.230</td>\n",
       "      <td>0.397896</td>\n",
       "      <td>0.166896</td>\n",
       "      <td>0.081214</td>\n",
       "      <td>0.193878</td>\n",
       "      <td>1</td>\n",
       "      <td>0</td>\n",
       "      <td>3</td>\n",
       "    </tr>\n",
       "    <tr>\n",
       "      <th>1</th>\n",
       "      <td>0</td>\n",
       "      <td>2458</td>\n",
       "      <td>0.005524</td>\n",
       "      <td>0.001755</td>\n",
       "      <td>15.905</td>\n",
       "      <td>0.344194</td>\n",
       "      <td>0.155327</td>\n",
       "      <td>0.184556</td>\n",
       "      <td>0.154676</td>\n",
       "      <td>3</td>\n",
       "      <td>0</td>\n",
       "      <td>1</td>\n",
       "    </tr>\n",
       "    <tr>\n",
       "      <th>2</th>\n",
       "      <td>1</td>\n",
       "      <td>5710</td>\n",
       "      <td>0.006510</td>\n",
       "      <td>0.001606</td>\n",
       "      <td>61.270</td>\n",
       "      <td>0.464298</td>\n",
       "      <td>0.163957</td>\n",
       "      <td>0.086232</td>\n",
       "      <td>0.076861</td>\n",
       "      <td>3</td>\n",
       "      <td>0</td>\n",
       "      <td>2</td>\n",
       "    </tr>\n",
       "    <tr>\n",
       "      <th>3</th>\n",
       "      <td>1</td>\n",
       "      <td>5888</td>\n",
       "      <td>0.010258</td>\n",
       "      <td>0.001527</td>\n",
       "      <td>6.246</td>\n",
       "      <td>0.564121</td>\n",
       "      <td>0.179408</td>\n",
       "      <td>0.230524</td>\n",
       "      <td>0.168698</td>\n",
       "      <td>1</td>\n",
       "      <td>1</td>\n",
       "      <td>1</td>\n",
       "    </tr>\n",
       "    <tr>\n",
       "      <th>4</th>\n",
       "      <td>1</td>\n",
       "      <td>289</td>\n",
       "      <td>0.006905</td>\n",
       "      <td>0.003014</td>\n",
       "      <td>100.000</td>\n",
       "      <td>0.421054</td>\n",
       "      <td>0.181161</td>\n",
       "      <td>0.166534</td>\n",
       "      <td>0.135516</td>\n",
       "      <td>1</td>\n",
       "      <td>0</td>\n",
       "      <td>1</td>\n",
       "    </tr>\n",
       "  </tbody>\n",
       "</table>\n",
       "</div>"
      ],
      "text/plain": [
       "   accepted  lender  applicant_income  loan_amount  minority_population_pct  \\\n",
       "0         1    4536          0.002269     0.000684                   44.230   \n",
       "1         0    2458          0.005524     0.001755                   15.905   \n",
       "2         1    5710          0.006510     0.001606                   61.270   \n",
       "3         1    5888          0.010258     0.001527                    6.246   \n",
       "4         1     289          0.006905     0.003014                  100.000   \n",
       "\n",
       "   ffiecmedian_family_income  population  number_of_owner-occupied_units  \\\n",
       "0                   0.397896    0.166896                        0.081214   \n",
       "1                   0.344194    0.155327                        0.184556   \n",
       "2                   0.464298    0.163957                        0.086232   \n",
       "3                   0.564121    0.179408                        0.230524   \n",
       "4                   0.421054    0.181161                        0.166534   \n",
       "\n",
       "   number_of_1_to_4_family_units  loan_purpose  co_applicant  loan_type  \n",
       "0                       0.193878             1             0          3  \n",
       "1                       0.154676             3             0          1  \n",
       "2                       0.076861             3             0          2  \n",
       "3                       0.168698             1             1          1  \n",
       "4                       0.135516             1             0          1  "
      ]
     },
     "execution_count": 4,
     "metadata": {},
     "output_type": "execute_result"
    }
   ],
   "source": [
    "\n",
    "\n",
    "df = pd.read_csv('./data/clean.csv')\n",
    "df = df.dropna()\n",
    "\n",
    "\n",
    "# reduced features\n",
    "'''\n",
    "[(0.0966, 'lender'), (0.0963, 'applicant_income'), (0.0949, 'loan_amount'), (0.0848, 'minority_population_pct'), (0.0825, 'ffiecmedian_family_income'), (0.0777, 'population'), (0.0766, 'number_of_owner-occupied_units'), (0.0762, 'number_of_1_to_4_family_units'), (0.0572, 'county_code'),\n",
    "(0.0544, 'loan_purpose'), (0.0489, 'msa_md'), (0.0445, 'state_code'), (0.0383, 'tract_to_msa_md_income_pct'), (0.0148, 'applicant_race'), (0.0133, 'loan_type'), (0.0126, 'property_type'), (0.0106, 'co_applicant'), (0.0105, 'applicant_ethnicity'), (0.0094, 'preapproval')]\n",
    "'''\n",
    "reduced_feature_df = df[['accepted','lender','applicant_income', 'loan_amount', 'minority_population_pct','ffiecmedian_family_income', 'population', 'number_of_owner-occupied_units','number_of_1_to_4_family_units', 'loan_purpose','co_applicant', 'loan_type'  ]]\n",
    "\n",
    "reduced_feature_df.head(5)"
   ]
  },
  {
   "cell_type": "code",
   "execution_count": 5,
   "metadata": {},
   "outputs": [],
   "source": [
    "# split up the data into labels and features\n",
    "labels = reduced_feature_df['accepted']\n",
    "features = reduced_feature_df.drop(columns=['accepted'])\n",
    "\n",
    "# split test / train data\n",
    "from sklearn.model_selection import train_test_split\n",
    "from sklearn.naive_bayes import GaussianNB\n",
    "from sklearn.metrics import accuracy_score\n",
    "import datetime\n",
    "\n",
    "# first pass - standard 50/50 split\n",
    "train, test, train_labels, test_labels = train_test_split(features,\n",
    "                                                          labels,\n",
    "                                                          test_size=0.4,\n",
    "                                                          random_state=123)"
   ]
  },
  {
   "cell_type": "code",
   "execution_count": 6,
   "metadata": {},
   "outputs": [
    {
     "name": "stdout",
     "output_type": "stream",
     "text": [
      "accuracy of model is: 0.6095309808216678\n",
      "exporting results to:  output.csv # records  175302\n"
     ]
    }
   ],
   "source": [
    "\n",
    "\n",
    "# Initialize our classifier\n",
    "gnb = GaussianNB()\n",
    "\n",
    "# Train our classifier\n",
    "model = gnb.fit(train, train_labels)\n",
    "preds = gnb.predict(test)\n",
    "\n",
    "# Evaluate accuracy\n",
    "print('accuracy of model is:',accuracy_score(test_labels, preds))\n",
    "\n",
    "def export_submission(predictions, df, export_label_column):\n",
    "    df = pd.DataFrame({export_label_column: predictions})\n",
    "    df['row_id'] = df.index\n",
    "\n",
    "    df_export = pd.DataFrame({'row_id':df['row_id'], export_label_column:df[export_label_column]})\n",
    "    \n",
    "    currentDT = datetime.datetime.now()\n",
    "    #export_path = str(currentDT.strftime(\"%Y-%m-%d %H:%M:%S\")) + \".csv\"\n",
    "    #export_path = str(export_path.replace(\" \", \"_\"))\n",
    "    export_path = \"output.csv\"\n",
    "    df_export.to_csv(export_path, index=False)\n",
    "    print('exporting results to: ', export_path, '# records ', len(df_export))\n",
    "    \n",
    "export_submission(preds, df, 'accepted')"
   ]
  },
  {
   "cell_type": "code",
   "execution_count": 7,
   "metadata": {},
   "outputs": [
    {
     "name": "stderr",
     "output_type": "stream",
     "text": [
      "C:\\Users\\BenMcC\\AppData\\Local\\conda\\conda\\envs\\mortgage-classifier-capstone\\lib\\site-packages\\sklearn\\ensemble\\forest.py:246: FutureWarning: The default value of n_estimators will change from 10 in version 0.20 to 100 in 0.22.\n",
      "  \"10 in version 0.20 to 100 in 0.22.\", FutureWarning)\n"
     ]
    },
    {
     "name": "stdout",
     "output_type": "stream",
     "text": [
      "accuracy of model2 is: 0.6353721007176187\n",
      "Features sorted by their score:\n",
      "[(0.1266, 'accepted'), (0.1245, 'applicant_income'), (0.1219, 'lender'), (0.1167, 'loan_amount'), (0.1148, 'minority_population_pct'), (0.1052, 'ffiecmedian_family_income'), (0.1049, 'number_of_owner-occupied_units'), (0.1041, 'population'), (0.0565, 'number_of_1_to_4_family_units'), (0.0147, 'co_applicant'), (0.0102, 'loan_purpose')]\n"
     ]
    }
   ],
   "source": [
    "from sklearn.ensemble import RandomForestClassifier \n",
    "import matplotlib.pyplot as plt\n",
    "import numpy as np\n",
    "\n",
    "# create a new classifiser\n",
    "rfc = RandomForestClassifier()\n",
    "# Train the model\n",
    "model2 = rfc.fit(train, train_labels)\n",
    "preds2 = rfc.predict(test)\n",
    "col_names = reduced_feature_df.columns.values\n",
    "\n",
    "print('accuracy of model2 is:',accuracy_score(test_labels, preds2))\n",
    "\n",
    "print(\"Features sorted by their score:\")\n",
    "zipped_objs = zip(map(lambda x: round(x, 4), rfc.feature_importances_), col_names)\n",
    "print( sorted(zipped_objs, reverse=True) )\n"
   ]
  },
  {
   "cell_type": "code",
   "execution_count": 8,
   "metadata": {},
   "outputs": [
    {
     "data": {
      "image/png": "[encoded data removed]",
      "text/plain": [
       "<Figure size 432x288 with 1 Axes>"
      ]
     },
     "metadata": {
      "needs_background": "light"
     },
     "output_type": "display_data"
    }
   ],
   "source": [
    "# Isolate feature importances \n",
    "importance = rfc.feature_importances_\n",
    "\n",
    "# Sort the feature importances \n",
    "sorted_importances = np.argsort(importance)\n",
    "\n",
    "# Insert padding\n",
    "padding = np.arange(len(col_names)-1) + 0.5\n",
    "\n",
    "# Plot the data\n",
    "plt.barh(padding, importance[sorted_importances], align='center')\n",
    "\n",
    "# Customize the plot\n",
    "plt.yticks(padding, col_names[sorted_importances])\n",
    "plt.xlabel(\"Relative Importance\")\n",
    "plt.title(\"Variable Importance\")\n",
    "\n",
    "# Show the plot\n",
    "plt.show()"
   ]
  },
  {
   "cell_type": "code",
   "execution_count": 9,
   "metadata": {},
   "outputs": [],
   "source": [
    "# export the model for use in other notebooks\n",
    "import pickle\n",
    "\n",
    "filename = 'RandomForestClassifier_v1.sav'\n",
    "pickle.dump(model, open(filename, 'wb'))"
   ]
  },
  {
   "cell_type": "code",
   "execution_count": 10,
   "metadata": {},
   "outputs": [
    {
     "data": {
      "text/plain": [
       "'\\n# build a classifier\\nclf = RandomForestClassifier(n_estimators=20)\\n\\n\\n# Utility function to report best scores\\ndef report(results, n_top=3):\\n    for i in range(1, n_top + 1):\\n        candidates = np.flatnonzero(results[\\'rank_test_score\\'] == i)\\n        for candidate in candidates:\\n            print(\"Model with rank: {0}\".format(i))\\n            print(\"Mean validation score: {0:.3f} (std: {1:.3f})\".format(\\n                  results[\\'mean_test_score\\'][candidate],\\n                  results[\\'std_test_score\\'][candidate]))\\n            print(\"Parameters: {0}\".format(results[\\'params\\'][candidate]))\\n            print(\"\")\\n\\n\\n# specify parameters and distributions to sample from\\nparam_dist = {\"max_depth\": [3, None],\\n              \"max_features\": sp_randint(1, 11),\\n              \"min_samples_split\": sp_randint(2, 11),\\n              \"bootstrap\": [True, False],\\n              \"criterion\": [\"gini\", \"entropy\"]}\\n\\n# run randomized search\\nn_iter_search = 20\\nrandom_search = RandomizedSearchCV(clf, param_distributions=param_dist,\\n                                   n_iter=n_iter_search, cv=5)\\n\\nstart = time()\\n#model2 = rfc.fit(train, train_labels)\\nrandom_search.fit(train, train_labels)\\nprint(\"RandomizedSearchCV took %.2f seconds for %d candidates\"\\n      \" parameter settings.\" % ((time() - start), n_iter_search))\\nreport(random_search.cv_results_)\\n\\n# use a full grid over all parameters\\nparam_grid = {\"max_depth\": [3, None],\\n              \"max_features\": [1, 3, 10],\\n              \"min_samples_split\": [2, 3, 10],\\n              \"bootstrap\": [True, False],\\n              \"criterion\": [\"gini\", \"entropy\"]}\\n\\n# run grid search\\ngrid_search = GridSearchCV(clf, param_grid=param_grid, cv=5)\\nstart = time()\\ngrid_search.fit(train, train_labels)\\n\\nprint(\"GridSearchCV took %.2f seconds for %d candidate parameter settings.\"\\n      % (time() - start, len(grid_search.cv_results_[\\'params\\'])))\\nreport(grid_search.cv_results_)\\n'"
      ]
     },
     "execution_count": 10,
     "metadata": {},
     "output_type": "execute_result"
    }
   ],
   "source": [
    "'''\n",
    "# build a classifier\n",
    "clf = RandomForestClassifier(n_estimators=20)\n",
    "\n",
    "\n",
    "# Utility function to report best scores\n",
    "def report(results, n_top=3):\n",
    "    for i in range(1, n_top + 1):\n",
    "        candidates = np.flatnonzero(results['rank_test_score'] == i)\n",
    "        for candidate in candidates:\n",
    "            print(\"Model with rank: {0}\".format(i))\n",
    "            print(\"Mean validation score: {0:.3f} (std: {1:.3f})\".format(\n",
    "                  results['mean_test_score'][candidate],\n",
    "                  results['std_test_score'][candidate]))\n",
    "            print(\"Parameters: {0}\".format(results['params'][candidate]))\n",
    "            print(\"\")\n",
    "\n",
    "\n",
    "# specify parameters and distributions to sample from\n",
    "param_dist = {\"max_depth\": [3, None],\n",
    "              \"max_features\": sp_randint(1, 11),\n",
    "              \"min_samples_split\": sp_randint(2, 11),\n",
    "              \"bootstrap\": [True, False],\n",
    "              \"criterion\": [\"gini\", \"entropy\"]}\n",
    "\n",
    "# run randomized search\n",
    "n_iter_search = 20\n",
    "random_search = RandomizedSearchCV(clf, param_distributions=param_dist,\n",
    "                                   n_iter=n_iter_search, cv=5)\n",
    "\n",
    "start = time()\n",
    "#model2 = rfc.fit(train, train_labels)\n",
    "random_search.fit(train, train_labels)\n",
    "print(\"RandomizedSearchCV took %.2f seconds for %d candidates\"\n",
    "      \" parameter settings.\" % ((time() - start), n_iter_search))\n",
    "report(random_search.cv_results_)\n",
    "\n",
    "# use a full grid over all parameters\n",
    "param_grid = {\"max_depth\": [3, None],\n",
    "              \"max_features\": [1, 3, 10],\n",
    "              \"min_samples_split\": [2, 3, 10],\n",
    "              \"bootstrap\": [True, False],\n",
    "              \"criterion\": [\"gini\", \"entropy\"]}\n",
    "\n",
    "# run grid search\n",
    "grid_search = GridSearchCV(clf, param_grid=param_grid, cv=5)\n",
    "start = time()\n",
    "grid_search.fit(train, train_labels)\n",
    "\n",
    "print(\"GridSearchCV took %.2f seconds for %d candidate parameter settings.\"\n",
    "      % (time() - start, len(grid_search.cv_results_['params'])))\n",
    "report(grid_search.cv_results_)\n",
    "'''"
   ]
  },
  {
   "cell_type": "code",
   "execution_count": null,
   "metadata": {},
   "outputs": [],
   "source": []
  }
 ],
 "metadata": {
  "kernelspec": {
   "display_name": "Python 3",
   "language": "python",
   "name": "python3"
  },
  "language_info": {
   "codemirror_mode": {
    "name": "ipython",
    "version": 3
   },
   "file_extension": ".py",
   "mimetype": "text/x-python",
   "name": "python",
   "nbconvert_exporter": "python",
   "pygments_lexer": "ipython3",
   "version": "3.7.3"
  }
 },
 "nbformat": 4,
 "nbformat_minor": 2
}
