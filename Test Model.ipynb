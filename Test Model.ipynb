{
 "cells": [
  {
   "cell_type": "code",
   "execution_count": 3,
   "metadata": {},
   "outputs": [
    {
     "name": "stdout",
     "output_type": "stream",
     "text": [
      "<class 'pandas.core.frame.DataFrame'>\n",
      "RangeIndex: 500000 entries, 0 to 499999\n",
      "Data columns (total 22 columns):\n",
      "row_id                            500000 non-null int64\n",
      "loan_type                         500000 non-null int64\n",
      "property_type                     500000 non-null int64\n",
      "loan_purpose                      500000 non-null int64\n",
      "occupancy                         500000 non-null int64\n",
      "loan_amount                       500000 non-null float64\n",
      "preapproval                       500000 non-null int64\n",
      "msa_md                            500000 non-null int64\n",
      "state_code                        500000 non-null int64\n",
      "county_code                       500000 non-null int64\n",
      "applicant_ethnicity               500000 non-null int64\n",
      "applicant_race                    500000 non-null int64\n",
      "applicant_sex                     500000 non-null int64\n",
      "applicant_income                  459859 non-null float64\n",
      "population                        477520 non-null float64\n",
      "minority_population_pct           477518 non-null float64\n",
      "ffiecmedian_family_income         477547 non-null float64\n",
      "tract_to_msa_md_income_pct        477483 non-null float64\n",
      "number_of_owner-occupied_units    477426 non-null float64\n",
      "number_of_1_to_4_family_units     477450 non-null float64\n",
      "lender                            500000 non-null int64\n",
      "co_applicant                      500000 non-null bool\n",
      "dtypes: bool(1), float64(8), int64(13)\n",
      "memory usage: 80.6 MB\n"
     ]
    }
   ],
   "source": [
    "import pandas as pd \n",
    "\n",
    "# setup testing function\n",
    "test_values = pd.read_csv('./data/test_values.csv')\n",
    "\n",
    "#def export_submission(df, predictions_arr):\n",
    "test_values.info()"
   ]
  },
  {
   "cell_type": "code",
   "execution_count": null,
   "metadata": {},
   "outputs": [],
   "source": []
  }
 ],
 "metadata": {
  "kernelspec": {
   "display_name": "Python 3",
   "language": "python",
   "name": "python3"
  },
  "language_info": {
   "codemirror_mode": {
    "name": "ipython",
    "version": 3
   },
   "file_extension": ".py",
   "mimetype": "text/x-python",
   "name": "python",
   "nbconvert_exporter": "python",
   "pygments_lexer": "ipython3",
   "version": "3.7.2"
  }
 },
 "nbformat": 4,
 "nbformat_minor": 2
}
